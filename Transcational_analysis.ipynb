{
  "nbformat": 4,
  "nbformat_minor": 0,
  "metadata": {
    "colab": {
      "provenance": [],
      "collapsed_sections": []
    },
    "kernelspec": {
      "name": "python3",
      "display_name": "Python 3"
    },
    "language_info": {
      "name": "python"
    }
  },
  "cells": [
    {
      "cell_type": "code",
      "execution_count": 4,
      "metadata": {
        "id": "rrq1qywZCvS_"
      },
      "outputs": [],
      "source": [
        "import pandas as pd\n",
        "import numpy as np\n",
        "import matplotlib.pyplot as plt\n",
        "import seaborn as sns\n",
        "from sklearn.datasets import load_boston\n",
        "%matplotlib inline\n",
        "sns.set_style('whitegrid')\n",
        "plt.style.use(\"fivethirtyeight\")\n",
        "from sklearn.tree import DecisionTreeClassifier\n",
        "from sklearn.naive_bayes import GaussianNB\n",
        "from sklearn.linear_model import LogisticRegression\n",
        "from sklearn import metrics"
      ]
    },
    {
      "cell_type": "code",
      "source": [
        "data = pd.read_csv(\"/content/Dataset.csv\")\n",
        "data.head()"
      ],
      "metadata": {
        "colab": {
          "base_uri": "https://localhost:8080/",
          "height": 478
        },
        "id": "CfZk1poXEPGS",
        "outputId": "2f90eb35-c75e-4a00-9933-aac37b39f5cc"
      },
      "execution_count": 5,
      "outputs": [
        {
          "output_type": "execute_result",
          "data": {
            "text/plain": [
              "  Transaction ID       Date Day of Week  Time Type of Card Entry Mode Amount  \\\n",
              "0      #3577 209  14-Oct-20   Wednesday    19         Visa        Tap     £5   \n",
              "1      #3039 221  14-Oct-20   Wednesday    17   MasterCard        PIN   £288   \n",
              "2      #2694 780  14-Oct-20   Wednesday    14         Visa        Tap     £5   \n",
              "3      #2640 960  13-Oct-20     Tuesday    14         Visa        Tap    £28   \n",
              "4      #2771 031  13-Oct-20     Tuesday    23         Visa        CVC    £91   \n",
              "\n",
              "  Type of Transaction Merchant Group Country of Transaction Shipping Address  \\\n",
              "0                 POS  Entertainment         United Kingdom   United Kingdom   \n",
              "1                 POS       Services                    USA              USA   \n",
              "2                 POS     Restaurant                  India            India   \n",
              "3                 POS  Entertainment         United Kingdom            India   \n",
              "4              Online    Electronics                    USA              USA   \n",
              "\n",
              "  Country of Residence Gender   Age      Bank  Fraud  \n",
              "0       United Kingdom      M  25.2       RBS      0  \n",
              "1                  USA      F  49.6    Lloyds      0  \n",
              "2                India      F  42.2  Barclays      0  \n",
              "3       United Kingdom      F  51.0  Barclays      0  \n",
              "4       United Kingdom      M  38.0   Halifax      1  "
            ],
            "text/html": [
              "\n",
              "  <div id=\"df-7719874e-494b-4de4-b149-7c954fcba095\">\n",
              "    <div class=\"colab-df-container\">\n",
              "      <div>\n",
              "<style scoped>\n",
              "    .dataframe tbody tr th:only-of-type {\n",
              "        vertical-align: middle;\n",
              "    }\n",
              "\n",
              "    .dataframe tbody tr th {\n",
              "        vertical-align: top;\n",
              "    }\n",
              "\n",
              "    .dataframe thead th {\n",
              "        text-align: right;\n",
              "    }\n",
              "</style>\n",
              "<table border=\"1\" class=\"dataframe\">\n",
              "  <thead>\n",
              "    <tr style=\"text-align: right;\">\n",
              "      <th></th>\n",
              "      <th>Transaction ID</th>\n",
              "      <th>Date</th>\n",
              "      <th>Day of Week</th>\n",
              "      <th>Time</th>\n",
              "      <th>Type of Card</th>\n",
              "      <th>Entry Mode</th>\n",
              "      <th>Amount</th>\n",
              "      <th>Type of Transaction</th>\n",
              "      <th>Merchant Group</th>\n",
              "      <th>Country of Transaction</th>\n",
              "      <th>Shipping Address</th>\n",
              "      <th>Country of Residence</th>\n",
              "      <th>Gender</th>\n",
              "      <th>Age</th>\n",
              "      <th>Bank</th>\n",
              "      <th>Fraud</th>\n",
              "    </tr>\n",
              "  </thead>\n",
              "  <tbody>\n",
              "    <tr>\n",
              "      <th>0</th>\n",
              "      <td>#3577 209</td>\n",
              "      <td>14-Oct-20</td>\n",
              "      <td>Wednesday</td>\n",
              "      <td>19</td>\n",
              "      <td>Visa</td>\n",
              "      <td>Tap</td>\n",
              "      <td>£5</td>\n",
              "      <td>POS</td>\n",
              "      <td>Entertainment</td>\n",
              "      <td>United Kingdom</td>\n",
              "      <td>United Kingdom</td>\n",
              "      <td>United Kingdom</td>\n",
              "      <td>M</td>\n",
              "      <td>25.2</td>\n",
              "      <td>RBS</td>\n",
              "      <td>0</td>\n",
              "    </tr>\n",
              "    <tr>\n",
              "      <th>1</th>\n",
              "      <td>#3039 221</td>\n",
              "      <td>14-Oct-20</td>\n",
              "      <td>Wednesday</td>\n",
              "      <td>17</td>\n",
              "      <td>MasterCard</td>\n",
              "      <td>PIN</td>\n",
              "      <td>£288</td>\n",
              "      <td>POS</td>\n",
              "      <td>Services</td>\n",
              "      <td>USA</td>\n",
              "      <td>USA</td>\n",
              "      <td>USA</td>\n",
              "      <td>F</td>\n",
              "      <td>49.6</td>\n",
              "      <td>Lloyds</td>\n",
              "      <td>0</td>\n",
              "    </tr>\n",
              "    <tr>\n",
              "      <th>2</th>\n",
              "      <td>#2694 780</td>\n",
              "      <td>14-Oct-20</td>\n",
              "      <td>Wednesday</td>\n",
              "      <td>14</td>\n",
              "      <td>Visa</td>\n",
              "      <td>Tap</td>\n",
              "      <td>£5</td>\n",
              "      <td>POS</td>\n",
              "      <td>Restaurant</td>\n",
              "      <td>India</td>\n",
              "      <td>India</td>\n",
              "      <td>India</td>\n",
              "      <td>F</td>\n",
              "      <td>42.2</td>\n",
              "      <td>Barclays</td>\n",
              "      <td>0</td>\n",
              "    </tr>\n",
              "    <tr>\n",
              "      <th>3</th>\n",
              "      <td>#2640 960</td>\n",
              "      <td>13-Oct-20</td>\n",
              "      <td>Tuesday</td>\n",
              "      <td>14</td>\n",
              "      <td>Visa</td>\n",
              "      <td>Tap</td>\n",
              "      <td>£28</td>\n",
              "      <td>POS</td>\n",
              "      <td>Entertainment</td>\n",
              "      <td>United Kingdom</td>\n",
              "      <td>India</td>\n",
              "      <td>United Kingdom</td>\n",
              "      <td>F</td>\n",
              "      <td>51.0</td>\n",
              "      <td>Barclays</td>\n",
              "      <td>0</td>\n",
              "    </tr>\n",
              "    <tr>\n",
              "      <th>4</th>\n",
              "      <td>#2771 031</td>\n",
              "      <td>13-Oct-20</td>\n",
              "      <td>Tuesday</td>\n",
              "      <td>23</td>\n",
              "      <td>Visa</td>\n",
              "      <td>CVC</td>\n",
              "      <td>£91</td>\n",
              "      <td>Online</td>\n",
              "      <td>Electronics</td>\n",
              "      <td>USA</td>\n",
              "      <td>USA</td>\n",
              "      <td>United Kingdom</td>\n",
              "      <td>M</td>\n",
              "      <td>38.0</td>\n",
              "      <td>Halifax</td>\n",
              "      <td>1</td>\n",
              "    </tr>\n",
              "  </tbody>\n",
              "</table>\n",
              "</div>\n",
              "      <button class=\"colab-df-convert\" onclick=\"convertToInteractive('df-7719874e-494b-4de4-b149-7c954fcba095')\"\n",
              "              title=\"Convert this dataframe to an interactive table.\"\n",
              "              style=\"display:none;\">\n",
              "        \n",
              "  <svg xmlns=\"http://www.w3.org/2000/svg\" height=\"24px\"viewBox=\"0 0 24 24\"\n",
              "       width=\"24px\">\n",
              "    <path d=\"M0 0h24v24H0V0z\" fill=\"none\"/>\n",
              "    <path d=\"M18.56 5.44l.94 2.06.94-2.06 2.06-.94-2.06-.94-.94-2.06-.94 2.06-2.06.94zm-11 1L8.5 8.5l.94-2.06 2.06-.94-2.06-.94L8.5 2.5l-.94 2.06-2.06.94zm10 10l.94 2.06.94-2.06 2.06-.94-2.06-.94-.94-2.06-.94 2.06-2.06.94z\"/><path d=\"M17.41 7.96l-1.37-1.37c-.4-.4-.92-.59-1.43-.59-.52 0-1.04.2-1.43.59L10.3 9.45l-7.72 7.72c-.78.78-.78 2.05 0 2.83L4 21.41c.39.39.9.59 1.41.59.51 0 1.02-.2 1.41-.59l7.78-7.78 2.81-2.81c.8-.78.8-2.07 0-2.86zM5.41 20L4 18.59l7.72-7.72 1.47 1.35L5.41 20z\"/>\n",
              "  </svg>\n",
              "      </button>\n",
              "      \n",
              "  <style>\n",
              "    .colab-df-container {\n",
              "      display:flex;\n",
              "      flex-wrap:wrap;\n",
              "      gap: 12px;\n",
              "    }\n",
              "\n",
              "    .colab-df-convert {\n",
              "      background-color: #E8F0FE;\n",
              "      border: none;\n",
              "      border-radius: 50%;\n",
              "      cursor: pointer;\n",
              "      display: none;\n",
              "      fill: #1967D2;\n",
              "      height: 32px;\n",
              "      padding: 0 0 0 0;\n",
              "      width: 32px;\n",
              "    }\n",
              "\n",
              "    .colab-df-convert:hover {\n",
              "      background-color: #E2EBFA;\n",
              "      box-shadow: 0px 1px 2px rgba(60, 64, 67, 0.3), 0px 1px 3px 1px rgba(60, 64, 67, 0.15);\n",
              "      fill: #174EA6;\n",
              "    }\n",
              "\n",
              "    [theme=dark] .colab-df-convert {\n",
              "      background-color: #3B4455;\n",
              "      fill: #D2E3FC;\n",
              "    }\n",
              "\n",
              "    [theme=dark] .colab-df-convert:hover {\n",
              "      background-color: #434B5C;\n",
              "      box-shadow: 0px 1px 3px 1px rgba(0, 0, 0, 0.15);\n",
              "      filter: drop-shadow(0px 1px 2px rgba(0, 0, 0, 0.3));\n",
              "      fill: #FFFFFF;\n",
              "    }\n",
              "  </style>\n",
              "\n",
              "      <script>\n",
              "        const buttonEl =\n",
              "          document.querySelector('#df-7719874e-494b-4de4-b149-7c954fcba095 button.colab-df-convert');\n",
              "        buttonEl.style.display =\n",
              "          google.colab.kernel.accessAllowed ? 'block' : 'none';\n",
              "\n",
              "        async function convertToInteractive(key) {\n",
              "          const element = document.querySelector('#df-7719874e-494b-4de4-b149-7c954fcba095');\n",
              "          const dataTable =\n",
              "            await google.colab.kernel.invokeFunction('convertToInteractive',\n",
              "                                                     [key], {});\n",
              "          if (!dataTable) return;\n",
              "\n",
              "          const docLinkHtml = 'Like what you see? Visit the ' +\n",
              "            '<a target=\"_blank\" href=https://colab.research.google.com/notebooks/data_table.ipynb>data table notebook</a>'\n",
              "            + ' to learn more about interactive tables.';\n",
              "          element.innerHTML = '';\n",
              "          dataTable['output_type'] = 'display_data';\n",
              "          await google.colab.output.renderOutput(dataTable, element);\n",
              "          const docLink = document.createElement('div');\n",
              "          docLink.innerHTML = docLinkHtml;\n",
              "          element.appendChild(docLink);\n",
              "        }\n",
              "      </script>\n",
              "    </div>\n",
              "  </div>\n",
              "  "
            ]
          },
          "metadata": {},
          "execution_count": 5
        }
      ]
    },
    {
      "cell_type": "markdown",
      "source": [
        "# Removing Duplicated Values"
      ],
      "metadata": {
        "id": "NNHLBpfWE2XW"
      }
    },
    {
      "cell_type": "code",
      "source": [
        "display(data.drop_duplicates())"
      ],
      "metadata": {
        "colab": {
          "base_uri": "https://localhost:8080/",
          "height": 869
        },
        "id": "AgCjqEVHEPND",
        "outputId": "e991e726-ac38-4e02-c54f-240600f79442"
      },
      "execution_count": 6,
      "outputs": [
        {
          "output_type": "display_data",
          "data": {
            "text/plain": [
              "      Transaction ID       Date Day of Week  Time Type of Card Entry Mode  \\\n",
              "0          #3577 209  14-Oct-20   Wednesday    19         Visa        Tap   \n",
              "1          #3039 221  14-Oct-20   Wednesday    17   MasterCard        PIN   \n",
              "2          #2694 780  14-Oct-20   Wednesday    14         Visa        Tap   \n",
              "3          #2640 960  13-Oct-20     Tuesday    14         Visa        Tap   \n",
              "4          #2771 031  13-Oct-20     Tuesday    23         Visa        CVC   \n",
              "...              ...        ...         ...   ...          ...        ...   \n",
              "99995      #3203 892  13-Oct-20     Tuesday    22   MasterCard        Tap   \n",
              "99996      #3304 849  14-Oct-20   Wednesday    23   MasterCard        PIN   \n",
              "99997      #3532 129  13-Oct-20     Tuesday    11   MasterCard        PIN   \n",
              "99998      #3107 092  14-Oct-20   Wednesday    22         Visa        Tap   \n",
              "99999      #3400 711  14-Oct-20   Wednesday    16         Visa        PIN   \n",
              "\n",
              "      Amount Type of Transaction Merchant Group Country of Transaction  \\\n",
              "0         £5                 POS  Entertainment         United Kingdom   \n",
              "1       £288                 POS       Services                    USA   \n",
              "2         £5                 POS     Restaurant                  India   \n",
              "3        £28                 POS  Entertainment         United Kingdom   \n",
              "4        £91              Online    Electronics                    USA   \n",
              "...      ...                 ...            ...                    ...   \n",
              "99995    £15                 POS    Electronics         United Kingdom   \n",
              "99996     £7                 ATM       Children                 Russia   \n",
              "99997    £21                 ATM   Subscription         United Kingdom   \n",
              "99998    £25                 POS       Products         United Kingdom   \n",
              "99999   £226                 POS     Restaurant         United Kingdom   \n",
              "\n",
              "      Shipping Address Country of Residence Gender   Age      Bank  Fraud  \n",
              "0       United Kingdom       United Kingdom      M  25.2       RBS      0  \n",
              "1                  USA                  USA      F  49.6    Lloyds      0  \n",
              "2                India                India      F  42.2  Barclays      0  \n",
              "3                India       United Kingdom      F  51.0  Barclays      0  \n",
              "4                  USA       United Kingdom      M  38.0   Halifax      1  \n",
              "...                ...                  ...    ...   ...       ...    ...  \n",
              "99995   United Kingdom       United Kingdom      F  53.8   Halifax      0  \n",
              "99996           Russia               Russia      M  45.0  Barclays      0  \n",
              "99997   United Kingdom       United Kingdom      F  46.5      HSBC      0  \n",
              "99998   United Kingdom       United Kingdom      M  48.2  Barclays      0  \n",
              "99999   United Kingdom       United Kingdom      M  31.7     Monzo      0  \n",
              "\n",
              "[100000 rows x 16 columns]"
            ],
            "text/html": [
              "\n",
              "  <div id=\"df-84081b17-63d2-4a77-aeab-1fdf7e52ae0c\">\n",
              "    <div class=\"colab-df-container\">\n",
              "      <div>\n",
              "<style scoped>\n",
              "    .dataframe tbody tr th:only-of-type {\n",
              "        vertical-align: middle;\n",
              "    }\n",
              "\n",
              "    .dataframe tbody tr th {\n",
              "        vertical-align: top;\n",
              "    }\n",
              "\n",
              "    .dataframe thead th {\n",
              "        text-align: right;\n",
              "    }\n",
              "</style>\n",
              "<table border=\"1\" class=\"dataframe\">\n",
              "  <thead>\n",
              "    <tr style=\"text-align: right;\">\n",
              "      <th></th>\n",
              "      <th>Transaction ID</th>\n",
              "      <th>Date</th>\n",
              "      <th>Day of Week</th>\n",
              "      <th>Time</th>\n",
              "      <th>Type of Card</th>\n",
              "      <th>Entry Mode</th>\n",
              "      <th>Amount</th>\n",
              "      <th>Type of Transaction</th>\n",
              "      <th>Merchant Group</th>\n",
              "      <th>Country of Transaction</th>\n",
              "      <th>Shipping Address</th>\n",
              "      <th>Country of Residence</th>\n",
              "      <th>Gender</th>\n",
              "      <th>Age</th>\n",
              "      <th>Bank</th>\n",
              "      <th>Fraud</th>\n",
              "    </tr>\n",
              "  </thead>\n",
              "  <tbody>\n",
              "    <tr>\n",
              "      <th>0</th>\n",
              "      <td>#3577 209</td>\n",
              "      <td>14-Oct-20</td>\n",
              "      <td>Wednesday</td>\n",
              "      <td>19</td>\n",
              "      <td>Visa</td>\n",
              "      <td>Tap</td>\n",
              "      <td>£5</td>\n",
              "      <td>POS</td>\n",
              "      <td>Entertainment</td>\n",
              "      <td>United Kingdom</td>\n",
              "      <td>United Kingdom</td>\n",
              "      <td>United Kingdom</td>\n",
              "      <td>M</td>\n",
              "      <td>25.2</td>\n",
              "      <td>RBS</td>\n",
              "      <td>0</td>\n",
              "    </tr>\n",
              "    <tr>\n",
              "      <th>1</th>\n",
              "      <td>#3039 221</td>\n",
              "      <td>14-Oct-20</td>\n",
              "      <td>Wednesday</td>\n",
              "      <td>17</td>\n",
              "      <td>MasterCard</td>\n",
              "      <td>PIN</td>\n",
              "      <td>£288</td>\n",
              "      <td>POS</td>\n",
              "      <td>Services</td>\n",
              "      <td>USA</td>\n",
              "      <td>USA</td>\n",
              "      <td>USA</td>\n",
              "      <td>F</td>\n",
              "      <td>49.6</td>\n",
              "      <td>Lloyds</td>\n",
              "      <td>0</td>\n",
              "    </tr>\n",
              "    <tr>\n",
              "      <th>2</th>\n",
              "      <td>#2694 780</td>\n",
              "      <td>14-Oct-20</td>\n",
              "      <td>Wednesday</td>\n",
              "      <td>14</td>\n",
              "      <td>Visa</td>\n",
              "      <td>Tap</td>\n",
              "      <td>£5</td>\n",
              "      <td>POS</td>\n",
              "      <td>Restaurant</td>\n",
              "      <td>India</td>\n",
              "      <td>India</td>\n",
              "      <td>India</td>\n",
              "      <td>F</td>\n",
              "      <td>42.2</td>\n",
              "      <td>Barclays</td>\n",
              "      <td>0</td>\n",
              "    </tr>\n",
              "    <tr>\n",
              "      <th>3</th>\n",
              "      <td>#2640 960</td>\n",
              "      <td>13-Oct-20</td>\n",
              "      <td>Tuesday</td>\n",
              "      <td>14</td>\n",
              "      <td>Visa</td>\n",
              "      <td>Tap</td>\n",
              "      <td>£28</td>\n",
              "      <td>POS</td>\n",
              "      <td>Entertainment</td>\n",
              "      <td>United Kingdom</td>\n",
              "      <td>India</td>\n",
              "      <td>United Kingdom</td>\n",
              "      <td>F</td>\n",
              "      <td>51.0</td>\n",
              "      <td>Barclays</td>\n",
              "      <td>0</td>\n",
              "    </tr>\n",
              "    <tr>\n",
              "      <th>4</th>\n",
              "      <td>#2771 031</td>\n",
              "      <td>13-Oct-20</td>\n",
              "      <td>Tuesday</td>\n",
              "      <td>23</td>\n",
              "      <td>Visa</td>\n",
              "      <td>CVC</td>\n",
              "      <td>£91</td>\n",
              "      <td>Online</td>\n",
              "      <td>Electronics</td>\n",
              "      <td>USA</td>\n",
              "      <td>USA</td>\n",
              "      <td>United Kingdom</td>\n",
              "      <td>M</td>\n",
              "      <td>38.0</td>\n",
              "      <td>Halifax</td>\n",
              "      <td>1</td>\n",
              "    </tr>\n",
              "    <tr>\n",
              "      <th>...</th>\n",
              "      <td>...</td>\n",
              "      <td>...</td>\n",
              "      <td>...</td>\n",
              "      <td>...</td>\n",
              "      <td>...</td>\n",
              "      <td>...</td>\n",
              "      <td>...</td>\n",
              "      <td>...</td>\n",
              "      <td>...</td>\n",
              "      <td>...</td>\n",
              "      <td>...</td>\n",
              "      <td>...</td>\n",
              "      <td>...</td>\n",
              "      <td>...</td>\n",
              "      <td>...</td>\n",
              "      <td>...</td>\n",
              "    </tr>\n",
              "    <tr>\n",
              "      <th>99995</th>\n",
              "      <td>#3203 892</td>\n",
              "      <td>13-Oct-20</td>\n",
              "      <td>Tuesday</td>\n",
              "      <td>22</td>\n",
              "      <td>MasterCard</td>\n",
              "      <td>Tap</td>\n",
              "      <td>£15</td>\n",
              "      <td>POS</td>\n",
              "      <td>Electronics</td>\n",
              "      <td>United Kingdom</td>\n",
              "      <td>United Kingdom</td>\n",
              "      <td>United Kingdom</td>\n",
              "      <td>F</td>\n",
              "      <td>53.8</td>\n",
              "      <td>Halifax</td>\n",
              "      <td>0</td>\n",
              "    </tr>\n",
              "    <tr>\n",
              "      <th>99996</th>\n",
              "      <td>#3304 849</td>\n",
              "      <td>14-Oct-20</td>\n",
              "      <td>Wednesday</td>\n",
              "      <td>23</td>\n",
              "      <td>MasterCard</td>\n",
              "      <td>PIN</td>\n",
              "      <td>£7</td>\n",
              "      <td>ATM</td>\n",
              "      <td>Children</td>\n",
              "      <td>Russia</td>\n",
              "      <td>Russia</td>\n",
              "      <td>Russia</td>\n",
              "      <td>M</td>\n",
              "      <td>45.0</td>\n",
              "      <td>Barclays</td>\n",
              "      <td>0</td>\n",
              "    </tr>\n",
              "    <tr>\n",
              "      <th>99997</th>\n",
              "      <td>#3532 129</td>\n",
              "      <td>13-Oct-20</td>\n",
              "      <td>Tuesday</td>\n",
              "      <td>11</td>\n",
              "      <td>MasterCard</td>\n",
              "      <td>PIN</td>\n",
              "      <td>£21</td>\n",
              "      <td>ATM</td>\n",
              "      <td>Subscription</td>\n",
              "      <td>United Kingdom</td>\n",
              "      <td>United Kingdom</td>\n",
              "      <td>United Kingdom</td>\n",
              "      <td>F</td>\n",
              "      <td>46.5</td>\n",
              "      <td>HSBC</td>\n",
              "      <td>0</td>\n",
              "    </tr>\n",
              "    <tr>\n",
              "      <th>99998</th>\n",
              "      <td>#3107 092</td>\n",
              "      <td>14-Oct-20</td>\n",
              "      <td>Wednesday</td>\n",
              "      <td>22</td>\n",
              "      <td>Visa</td>\n",
              "      <td>Tap</td>\n",
              "      <td>£25</td>\n",
              "      <td>POS</td>\n",
              "      <td>Products</td>\n",
              "      <td>United Kingdom</td>\n",
              "      <td>United Kingdom</td>\n",
              "      <td>United Kingdom</td>\n",
              "      <td>M</td>\n",
              "      <td>48.2</td>\n",
              "      <td>Barclays</td>\n",
              "      <td>0</td>\n",
              "    </tr>\n",
              "    <tr>\n",
              "      <th>99999</th>\n",
              "      <td>#3400 711</td>\n",
              "      <td>14-Oct-20</td>\n",
              "      <td>Wednesday</td>\n",
              "      <td>16</td>\n",
              "      <td>Visa</td>\n",
              "      <td>PIN</td>\n",
              "      <td>£226</td>\n",
              "      <td>POS</td>\n",
              "      <td>Restaurant</td>\n",
              "      <td>United Kingdom</td>\n",
              "      <td>United Kingdom</td>\n",
              "      <td>United Kingdom</td>\n",
              "      <td>M</td>\n",
              "      <td>31.7</td>\n",
              "      <td>Monzo</td>\n",
              "      <td>0</td>\n",
              "    </tr>\n",
              "  </tbody>\n",
              "</table>\n",
              "<p>100000 rows × 16 columns</p>\n",
              "</div>\n",
              "      <button class=\"colab-df-convert\" onclick=\"convertToInteractive('df-84081b17-63d2-4a77-aeab-1fdf7e52ae0c')\"\n",
              "              title=\"Convert this dataframe to an interactive table.\"\n",
              "              style=\"display:none;\">\n",
              "        \n",
              "  <svg xmlns=\"http://www.w3.org/2000/svg\" height=\"24px\"viewBox=\"0 0 24 24\"\n",
              "       width=\"24px\">\n",
              "    <path d=\"M0 0h24v24H0V0z\" fill=\"none\"/>\n",
              "    <path d=\"M18.56 5.44l.94 2.06.94-2.06 2.06-.94-2.06-.94-.94-2.06-.94 2.06-2.06.94zm-11 1L8.5 8.5l.94-2.06 2.06-.94-2.06-.94L8.5 2.5l-.94 2.06-2.06.94zm10 10l.94 2.06.94-2.06 2.06-.94-2.06-.94-.94-2.06-.94 2.06-2.06.94z\"/><path d=\"M17.41 7.96l-1.37-1.37c-.4-.4-.92-.59-1.43-.59-.52 0-1.04.2-1.43.59L10.3 9.45l-7.72 7.72c-.78.78-.78 2.05 0 2.83L4 21.41c.39.39.9.59 1.41.59.51 0 1.02-.2 1.41-.59l7.78-7.78 2.81-2.81c.8-.78.8-2.07 0-2.86zM5.41 20L4 18.59l7.72-7.72 1.47 1.35L5.41 20z\"/>\n",
              "  </svg>\n",
              "      </button>\n",
              "      \n",
              "  <style>\n",
              "    .colab-df-container {\n",
              "      display:flex;\n",
              "      flex-wrap:wrap;\n",
              "      gap: 12px;\n",
              "    }\n",
              "\n",
              "    .colab-df-convert {\n",
              "      background-color: #E8F0FE;\n",
              "      border: none;\n",
              "      border-radius: 50%;\n",
              "      cursor: pointer;\n",
              "      display: none;\n",
              "      fill: #1967D2;\n",
              "      height: 32px;\n",
              "      padding: 0 0 0 0;\n",
              "      width: 32px;\n",
              "    }\n",
              "\n",
              "    .colab-df-convert:hover {\n",
              "      background-color: #E2EBFA;\n",
              "      box-shadow: 0px 1px 2px rgba(60, 64, 67, 0.3), 0px 1px 3px 1px rgba(60, 64, 67, 0.15);\n",
              "      fill: #174EA6;\n",
              "    }\n",
              "\n",
              "    [theme=dark] .colab-df-convert {\n",
              "      background-color: #3B4455;\n",
              "      fill: #D2E3FC;\n",
              "    }\n",
              "\n",
              "    [theme=dark] .colab-df-convert:hover {\n",
              "      background-color: #434B5C;\n",
              "      box-shadow: 0px 1px 3px 1px rgba(0, 0, 0, 0.15);\n",
              "      filter: drop-shadow(0px 1px 2px rgba(0, 0, 0, 0.3));\n",
              "      fill: #FFFFFF;\n",
              "    }\n",
              "  </style>\n",
              "\n",
              "      <script>\n",
              "        const buttonEl =\n",
              "          document.querySelector('#df-84081b17-63d2-4a77-aeab-1fdf7e52ae0c button.colab-df-convert');\n",
              "        buttonEl.style.display =\n",
              "          google.colab.kernel.accessAllowed ? 'block' : 'none';\n",
              "\n",
              "        async function convertToInteractive(key) {\n",
              "          const element = document.querySelector('#df-84081b17-63d2-4a77-aeab-1fdf7e52ae0c');\n",
              "          const dataTable =\n",
              "            await google.colab.kernel.invokeFunction('convertToInteractive',\n",
              "                                                     [key], {});\n",
              "          if (!dataTable) return;\n",
              "\n",
              "          const docLinkHtml = 'Like what you see? Visit the ' +\n",
              "            '<a target=\"_blank\" href=https://colab.research.google.com/notebooks/data_table.ipynb>data table notebook</a>'\n",
              "            + ' to learn more about interactive tables.';\n",
              "          element.innerHTML = '';\n",
              "          dataTable['output_type'] = 'display_data';\n",
              "          await google.colab.output.renderOutput(dataTable, element);\n",
              "          const docLink = document.createElement('div');\n",
              "          docLink.innerHTML = docLinkHtml;\n",
              "          element.appendChild(docLink);\n",
              "        }\n",
              "      </script>\n",
              "    </div>\n",
              "  </div>\n",
              "  "
            ]
          },
          "metadata": {}
        }
      ]
    },
    {
      "cell_type": "code",
      "source": [
        "data.shape"
      ],
      "metadata": {
        "colab": {
          "base_uri": "https://localhost:8080/"
        },
        "id": "MVpHTh6pEPP_",
        "outputId": "10345c89-b638-436b-c335-153fa33d702e"
      },
      "execution_count": 7,
      "outputs": [
        {
          "output_type": "execute_result",
          "data": {
            "text/plain": [
              "(100000, 16)"
            ]
          },
          "metadata": {},
          "execution_count": 7
        }
      ]
    },
    {
      "cell_type": "markdown",
      "source": [
        "# Removing Missing Values"
      ],
      "metadata": {
        "id": "UbrbeObhFuE4"
      }
    },
    {
      "cell_type": "code",
      "source": [
        "clean_Data = data.columns[data.isnull().any()]"
      ],
      "metadata": {
        "id": "9mBwiqMEEPT2"
      },
      "execution_count": 8,
      "outputs": []
    },
    {
      "cell_type": "code",
      "source": [
        "data"
      ],
      "metadata": {
        "colab": {
          "base_uri": "https://localhost:8080/",
          "height": 869
        },
        "id": "PWEECt7QEPXg",
        "outputId": "6068db3e-2b0e-41dc-a208-90ed83b03915"
      },
      "execution_count": 9,
      "outputs": [
        {
          "output_type": "execute_result",
          "data": {
            "text/plain": [
              "      Transaction ID       Date Day of Week  Time Type of Card Entry Mode  \\\n",
              "0          #3577 209  14-Oct-20   Wednesday    19         Visa        Tap   \n",
              "1          #3039 221  14-Oct-20   Wednesday    17   MasterCard        PIN   \n",
              "2          #2694 780  14-Oct-20   Wednesday    14         Visa        Tap   \n",
              "3          #2640 960  13-Oct-20     Tuesday    14         Visa        Tap   \n",
              "4          #2771 031  13-Oct-20     Tuesday    23         Visa        CVC   \n",
              "...              ...        ...         ...   ...          ...        ...   \n",
              "99995      #3203 892  13-Oct-20     Tuesday    22   MasterCard        Tap   \n",
              "99996      #3304 849  14-Oct-20   Wednesday    23   MasterCard        PIN   \n",
              "99997      #3532 129  13-Oct-20     Tuesday    11   MasterCard        PIN   \n",
              "99998      #3107 092  14-Oct-20   Wednesday    22         Visa        Tap   \n",
              "99999      #3400 711  14-Oct-20   Wednesday    16         Visa        PIN   \n",
              "\n",
              "      Amount Type of Transaction Merchant Group Country of Transaction  \\\n",
              "0         £5                 POS  Entertainment         United Kingdom   \n",
              "1       £288                 POS       Services                    USA   \n",
              "2         £5                 POS     Restaurant                  India   \n",
              "3        £28                 POS  Entertainment         United Kingdom   \n",
              "4        £91              Online    Electronics                    USA   \n",
              "...      ...                 ...            ...                    ...   \n",
              "99995    £15                 POS    Electronics         United Kingdom   \n",
              "99996     £7                 ATM       Children                 Russia   \n",
              "99997    £21                 ATM   Subscription         United Kingdom   \n",
              "99998    £25                 POS       Products         United Kingdom   \n",
              "99999   £226                 POS     Restaurant         United Kingdom   \n",
              "\n",
              "      Shipping Address Country of Residence Gender   Age      Bank  Fraud  \n",
              "0       United Kingdom       United Kingdom      M  25.2       RBS      0  \n",
              "1                  USA                  USA      F  49.6    Lloyds      0  \n",
              "2                India                India      F  42.2  Barclays      0  \n",
              "3                India       United Kingdom      F  51.0  Barclays      0  \n",
              "4                  USA       United Kingdom      M  38.0   Halifax      1  \n",
              "...                ...                  ...    ...   ...       ...    ...  \n",
              "99995   United Kingdom       United Kingdom      F  53.8   Halifax      0  \n",
              "99996           Russia               Russia      M  45.0  Barclays      0  \n",
              "99997   United Kingdom       United Kingdom      F  46.5      HSBC      0  \n",
              "99998   United Kingdom       United Kingdom      M  48.2  Barclays      0  \n",
              "99999   United Kingdom       United Kingdom      M  31.7     Monzo      0  \n",
              "\n",
              "[100000 rows x 16 columns]"
            ],
            "text/html": [
              "\n",
              "  <div id=\"df-97fe54cc-08f3-4db0-9719-b2e7fd57f76f\">\n",
              "    <div class=\"colab-df-container\">\n",
              "      <div>\n",
              "<style scoped>\n",
              "    .dataframe tbody tr th:only-of-type {\n",
              "        vertical-align: middle;\n",
              "    }\n",
              "\n",
              "    .dataframe tbody tr th {\n",
              "        vertical-align: top;\n",
              "    }\n",
              "\n",
              "    .dataframe thead th {\n",
              "        text-align: right;\n",
              "    }\n",
              "</style>\n",
              "<table border=\"1\" class=\"dataframe\">\n",
              "  <thead>\n",
              "    <tr style=\"text-align: right;\">\n",
              "      <th></th>\n",
              "      <th>Transaction ID</th>\n",
              "      <th>Date</th>\n",
              "      <th>Day of Week</th>\n",
              "      <th>Time</th>\n",
              "      <th>Type of Card</th>\n",
              "      <th>Entry Mode</th>\n",
              "      <th>Amount</th>\n",
              "      <th>Type of Transaction</th>\n",
              "      <th>Merchant Group</th>\n",
              "      <th>Country of Transaction</th>\n",
              "      <th>Shipping Address</th>\n",
              "      <th>Country of Residence</th>\n",
              "      <th>Gender</th>\n",
              "      <th>Age</th>\n",
              "      <th>Bank</th>\n",
              "      <th>Fraud</th>\n",
              "    </tr>\n",
              "  </thead>\n",
              "  <tbody>\n",
              "    <tr>\n",
              "      <th>0</th>\n",
              "      <td>#3577 209</td>\n",
              "      <td>14-Oct-20</td>\n",
              "      <td>Wednesday</td>\n",
              "      <td>19</td>\n",
              "      <td>Visa</td>\n",
              "      <td>Tap</td>\n",
              "      <td>£5</td>\n",
              "      <td>POS</td>\n",
              "      <td>Entertainment</td>\n",
              "      <td>United Kingdom</td>\n",
              "      <td>United Kingdom</td>\n",
              "      <td>United Kingdom</td>\n",
              "      <td>M</td>\n",
              "      <td>25.2</td>\n",
              "      <td>RBS</td>\n",
              "      <td>0</td>\n",
              "    </tr>\n",
              "    <tr>\n",
              "      <th>1</th>\n",
              "      <td>#3039 221</td>\n",
              "      <td>14-Oct-20</td>\n",
              "      <td>Wednesday</td>\n",
              "      <td>17</td>\n",
              "      <td>MasterCard</td>\n",
              "      <td>PIN</td>\n",
              "      <td>£288</td>\n",
              "      <td>POS</td>\n",
              "      <td>Services</td>\n",
              "      <td>USA</td>\n",
              "      <td>USA</td>\n",
              "      <td>USA</td>\n",
              "      <td>F</td>\n",
              "      <td>49.6</td>\n",
              "      <td>Lloyds</td>\n",
              "      <td>0</td>\n",
              "    </tr>\n",
              "    <tr>\n",
              "      <th>2</th>\n",
              "      <td>#2694 780</td>\n",
              "      <td>14-Oct-20</td>\n",
              "      <td>Wednesday</td>\n",
              "      <td>14</td>\n",
              "      <td>Visa</td>\n",
              "      <td>Tap</td>\n",
              "      <td>£5</td>\n",
              "      <td>POS</td>\n",
              "      <td>Restaurant</td>\n",
              "      <td>India</td>\n",
              "      <td>India</td>\n",
              "      <td>India</td>\n",
              "      <td>F</td>\n",
              "      <td>42.2</td>\n",
              "      <td>Barclays</td>\n",
              "      <td>0</td>\n",
              "    </tr>\n",
              "    <tr>\n",
              "      <th>3</th>\n",
              "      <td>#2640 960</td>\n",
              "      <td>13-Oct-20</td>\n",
              "      <td>Tuesday</td>\n",
              "      <td>14</td>\n",
              "      <td>Visa</td>\n",
              "      <td>Tap</td>\n",
              "      <td>£28</td>\n",
              "      <td>POS</td>\n",
              "      <td>Entertainment</td>\n",
              "      <td>United Kingdom</td>\n",
              "      <td>India</td>\n",
              "      <td>United Kingdom</td>\n",
              "      <td>F</td>\n",
              "      <td>51.0</td>\n",
              "      <td>Barclays</td>\n",
              "      <td>0</td>\n",
              "    </tr>\n",
              "    <tr>\n",
              "      <th>4</th>\n",
              "      <td>#2771 031</td>\n",
              "      <td>13-Oct-20</td>\n",
              "      <td>Tuesday</td>\n",
              "      <td>23</td>\n",
              "      <td>Visa</td>\n",
              "      <td>CVC</td>\n",
              "      <td>£91</td>\n",
              "      <td>Online</td>\n",
              "      <td>Electronics</td>\n",
              "      <td>USA</td>\n",
              "      <td>USA</td>\n",
              "      <td>United Kingdom</td>\n",
              "      <td>M</td>\n",
              "      <td>38.0</td>\n",
              "      <td>Halifax</td>\n",
              "      <td>1</td>\n",
              "    </tr>\n",
              "    <tr>\n",
              "      <th>...</th>\n",
              "      <td>...</td>\n",
              "      <td>...</td>\n",
              "      <td>...</td>\n",
              "      <td>...</td>\n",
              "      <td>...</td>\n",
              "      <td>...</td>\n",
              "      <td>...</td>\n",
              "      <td>...</td>\n",
              "      <td>...</td>\n",
              "      <td>...</td>\n",
              "      <td>...</td>\n",
              "      <td>...</td>\n",
              "      <td>...</td>\n",
              "      <td>...</td>\n",
              "      <td>...</td>\n",
              "      <td>...</td>\n",
              "    </tr>\n",
              "    <tr>\n",
              "      <th>99995</th>\n",
              "      <td>#3203 892</td>\n",
              "      <td>13-Oct-20</td>\n",
              "      <td>Tuesday</td>\n",
              "      <td>22</td>\n",
              "      <td>MasterCard</td>\n",
              "      <td>Tap</td>\n",
              "      <td>£15</td>\n",
              "      <td>POS</td>\n",
              "      <td>Electronics</td>\n",
              "      <td>United Kingdom</td>\n",
              "      <td>United Kingdom</td>\n",
              "      <td>United Kingdom</td>\n",
              "      <td>F</td>\n",
              "      <td>53.8</td>\n",
              "      <td>Halifax</td>\n",
              "      <td>0</td>\n",
              "    </tr>\n",
              "    <tr>\n",
              "      <th>99996</th>\n",
              "      <td>#3304 849</td>\n",
              "      <td>14-Oct-20</td>\n",
              "      <td>Wednesday</td>\n",
              "      <td>23</td>\n",
              "      <td>MasterCard</td>\n",
              "      <td>PIN</td>\n",
              "      <td>£7</td>\n",
              "      <td>ATM</td>\n",
              "      <td>Children</td>\n",
              "      <td>Russia</td>\n",
              "      <td>Russia</td>\n",
              "      <td>Russia</td>\n",
              "      <td>M</td>\n",
              "      <td>45.0</td>\n",
              "      <td>Barclays</td>\n",
              "      <td>0</td>\n",
              "    </tr>\n",
              "    <tr>\n",
              "      <th>99997</th>\n",
              "      <td>#3532 129</td>\n",
              "      <td>13-Oct-20</td>\n",
              "      <td>Tuesday</td>\n",
              "      <td>11</td>\n",
              "      <td>MasterCard</td>\n",
              "      <td>PIN</td>\n",
              "      <td>£21</td>\n",
              "      <td>ATM</td>\n",
              "      <td>Subscription</td>\n",
              "      <td>United Kingdom</td>\n",
              "      <td>United Kingdom</td>\n",
              "      <td>United Kingdom</td>\n",
              "      <td>F</td>\n",
              "      <td>46.5</td>\n",
              "      <td>HSBC</td>\n",
              "      <td>0</td>\n",
              "    </tr>\n",
              "    <tr>\n",
              "      <th>99998</th>\n",
              "      <td>#3107 092</td>\n",
              "      <td>14-Oct-20</td>\n",
              "      <td>Wednesday</td>\n",
              "      <td>22</td>\n",
              "      <td>Visa</td>\n",
              "      <td>Tap</td>\n",
              "      <td>£25</td>\n",
              "      <td>POS</td>\n",
              "      <td>Products</td>\n",
              "      <td>United Kingdom</td>\n",
              "      <td>United Kingdom</td>\n",
              "      <td>United Kingdom</td>\n",
              "      <td>M</td>\n",
              "      <td>48.2</td>\n",
              "      <td>Barclays</td>\n",
              "      <td>0</td>\n",
              "    </tr>\n",
              "    <tr>\n",
              "      <th>99999</th>\n",
              "      <td>#3400 711</td>\n",
              "      <td>14-Oct-20</td>\n",
              "      <td>Wednesday</td>\n",
              "      <td>16</td>\n",
              "      <td>Visa</td>\n",
              "      <td>PIN</td>\n",
              "      <td>£226</td>\n",
              "      <td>POS</td>\n",
              "      <td>Restaurant</td>\n",
              "      <td>United Kingdom</td>\n",
              "      <td>United Kingdom</td>\n",
              "      <td>United Kingdom</td>\n",
              "      <td>M</td>\n",
              "      <td>31.7</td>\n",
              "      <td>Monzo</td>\n",
              "      <td>0</td>\n",
              "    </tr>\n",
              "  </tbody>\n",
              "</table>\n",
              "<p>100000 rows × 16 columns</p>\n",
              "</div>\n",
              "      <button class=\"colab-df-convert\" onclick=\"convertToInteractive('df-97fe54cc-08f3-4db0-9719-b2e7fd57f76f')\"\n",
              "              title=\"Convert this dataframe to an interactive table.\"\n",
              "              style=\"display:none;\">\n",
              "        \n",
              "  <svg xmlns=\"http://www.w3.org/2000/svg\" height=\"24px\"viewBox=\"0 0 24 24\"\n",
              "       width=\"24px\">\n",
              "    <path d=\"M0 0h24v24H0V0z\" fill=\"none\"/>\n",
              "    <path d=\"M18.56 5.44l.94 2.06.94-2.06 2.06-.94-2.06-.94-.94-2.06-.94 2.06-2.06.94zm-11 1L8.5 8.5l.94-2.06 2.06-.94-2.06-.94L8.5 2.5l-.94 2.06-2.06.94zm10 10l.94 2.06.94-2.06 2.06-.94-2.06-.94-.94-2.06-.94 2.06-2.06.94z\"/><path d=\"M17.41 7.96l-1.37-1.37c-.4-.4-.92-.59-1.43-.59-.52 0-1.04.2-1.43.59L10.3 9.45l-7.72 7.72c-.78.78-.78 2.05 0 2.83L4 21.41c.39.39.9.59 1.41.59.51 0 1.02-.2 1.41-.59l7.78-7.78 2.81-2.81c.8-.78.8-2.07 0-2.86zM5.41 20L4 18.59l7.72-7.72 1.47 1.35L5.41 20z\"/>\n",
              "  </svg>\n",
              "      </button>\n",
              "      \n",
              "  <style>\n",
              "    .colab-df-container {\n",
              "      display:flex;\n",
              "      flex-wrap:wrap;\n",
              "      gap: 12px;\n",
              "    }\n",
              "\n",
              "    .colab-df-convert {\n",
              "      background-color: #E8F0FE;\n",
              "      border: none;\n",
              "      border-radius: 50%;\n",
              "      cursor: pointer;\n",
              "      display: none;\n",
              "      fill: #1967D2;\n",
              "      height: 32px;\n",
              "      padding: 0 0 0 0;\n",
              "      width: 32px;\n",
              "    }\n",
              "\n",
              "    .colab-df-convert:hover {\n",
              "      background-color: #E2EBFA;\n",
              "      box-shadow: 0px 1px 2px rgba(60, 64, 67, 0.3), 0px 1px 3px 1px rgba(60, 64, 67, 0.15);\n",
              "      fill: #174EA6;\n",
              "    }\n",
              "\n",
              "    [theme=dark] .colab-df-convert {\n",
              "      background-color: #3B4455;\n",
              "      fill: #D2E3FC;\n",
              "    }\n",
              "\n",
              "    [theme=dark] .colab-df-convert:hover {\n",
              "      background-color: #434B5C;\n",
              "      box-shadow: 0px 1px 3px 1px rgba(0, 0, 0, 0.15);\n",
              "      filter: drop-shadow(0px 1px 2px rgba(0, 0, 0, 0.3));\n",
              "      fill: #FFFFFF;\n",
              "    }\n",
              "  </style>\n",
              "\n",
              "      <script>\n",
              "        const buttonEl =\n",
              "          document.querySelector('#df-97fe54cc-08f3-4db0-9719-b2e7fd57f76f button.colab-df-convert');\n",
              "        buttonEl.style.display =\n",
              "          google.colab.kernel.accessAllowed ? 'block' : 'none';\n",
              "\n",
              "        async function convertToInteractive(key) {\n",
              "          const element = document.querySelector('#df-97fe54cc-08f3-4db0-9719-b2e7fd57f76f');\n",
              "          const dataTable =\n",
              "            await google.colab.kernel.invokeFunction('convertToInteractive',\n",
              "                                                     [key], {});\n",
              "          if (!dataTable) return;\n",
              "\n",
              "          const docLinkHtml = 'Like what you see? Visit the ' +\n",
              "            '<a target=\"_blank\" href=https://colab.research.google.com/notebooks/data_table.ipynb>data table notebook</a>'\n",
              "            + ' to learn more about interactive tables.';\n",
              "          element.innerHTML = '';\n",
              "          dataTable['output_type'] = 'display_data';\n",
              "          await google.colab.output.renderOutput(dataTable, element);\n",
              "          const docLink = document.createElement('div');\n",
              "          docLink.innerHTML = docLinkHtml;\n",
              "          element.appendChild(docLink);\n",
              "        }\n",
              "      </script>\n",
              "    </div>\n",
              "  </div>\n",
              "  "
            ]
          },
          "metadata": {},
          "execution_count": 9
        }
      ]
    },
    {
      "cell_type": "code",
      "source": [
        "data.isnull().sum()"
      ],
      "metadata": {
        "colab": {
          "base_uri": "https://localhost:8080/"
        },
        "id": "cGrC7ow5EPbc",
        "outputId": "9346d936-b592-4f26-de75-eaf7a4753210"
      },
      "execution_count": 10,
      "outputs": [
        {
          "output_type": "execute_result",
          "data": {
            "text/plain": [
              "Transaction ID             0\n",
              "Date                       0\n",
              "Day of Week                0\n",
              "Time                       0\n",
              "Type of Card               0\n",
              "Entry Mode                 0\n",
              "Amount                     6\n",
              "Type of Transaction        0\n",
              "Merchant Group            10\n",
              "Country of Transaction     0\n",
              "Shipping Address           5\n",
              "Country of Residence       0\n",
              "Gender                     4\n",
              "Age                        0\n",
              "Bank                       0\n",
              "Fraud                      0\n",
              "dtype: int64"
            ]
          },
          "metadata": {},
          "execution_count": 10
        }
      ]
    },
    {
      "cell_type": "code",
      "source": [
        "data.describe"
      ],
      "metadata": {
        "colab": {
          "base_uri": "https://localhost:8080/"
        },
        "id": "MyBvhfmfEPgg",
        "outputId": "19ff6360-1c81-4830-e434-34687ba269d9"
      },
      "execution_count": 11,
      "outputs": [
        {
          "output_type": "execute_result",
          "data": {
            "text/plain": [
              "<bound method NDFrame.describe of       Transaction ID       Date Day of Week  Time Type of Card Entry Mode  \\\n",
              "0          #3577 209  14-Oct-20   Wednesday    19         Visa        Tap   \n",
              "1          #3039 221  14-Oct-20   Wednesday    17   MasterCard        PIN   \n",
              "2          #2694 780  14-Oct-20   Wednesday    14         Visa        Tap   \n",
              "3          #2640 960  13-Oct-20     Tuesday    14         Visa        Tap   \n",
              "4          #2771 031  13-Oct-20     Tuesday    23         Visa        CVC   \n",
              "...              ...        ...         ...   ...          ...        ...   \n",
              "99995      #3203 892  13-Oct-20     Tuesday    22   MasterCard        Tap   \n",
              "99996      #3304 849  14-Oct-20   Wednesday    23   MasterCard        PIN   \n",
              "99997      #3532 129  13-Oct-20     Tuesday    11   MasterCard        PIN   \n",
              "99998      #3107 092  14-Oct-20   Wednesday    22         Visa        Tap   \n",
              "99999      #3400 711  14-Oct-20   Wednesday    16         Visa        PIN   \n",
              "\n",
              "      Amount Type of Transaction Merchant Group Country of Transaction  \\\n",
              "0         £5                 POS  Entertainment         United Kingdom   \n",
              "1       £288                 POS       Services                    USA   \n",
              "2         £5                 POS     Restaurant                  India   \n",
              "3        £28                 POS  Entertainment         United Kingdom   \n",
              "4        £91              Online    Electronics                    USA   \n",
              "...      ...                 ...            ...                    ...   \n",
              "99995    £15                 POS    Electronics         United Kingdom   \n",
              "99996     £7                 ATM       Children                 Russia   \n",
              "99997    £21                 ATM   Subscription         United Kingdom   \n",
              "99998    £25                 POS       Products         United Kingdom   \n",
              "99999   £226                 POS     Restaurant         United Kingdom   \n",
              "\n",
              "      Shipping Address Country of Residence Gender   Age      Bank  Fraud  \n",
              "0       United Kingdom       United Kingdom      M  25.2       RBS      0  \n",
              "1                  USA                  USA      F  49.6    Lloyds      0  \n",
              "2                India                India      F  42.2  Barclays      0  \n",
              "3                India       United Kingdom      F  51.0  Barclays      0  \n",
              "4                  USA       United Kingdom      M  38.0   Halifax      1  \n",
              "...                ...                  ...    ...   ...       ...    ...  \n",
              "99995   United Kingdom       United Kingdom      F  53.8   Halifax      0  \n",
              "99996           Russia               Russia      M  45.0  Barclays      0  \n",
              "99997   United Kingdom       United Kingdom      F  46.5      HSBC      0  \n",
              "99998   United Kingdom       United Kingdom      M  48.2  Barclays      0  \n",
              "99999   United Kingdom       United Kingdom      M  31.7     Monzo      0  \n",
              "\n",
              "[100000 rows x 16 columns]>"
            ]
          },
          "metadata": {},
          "execution_count": 11
        }
      ]
    },
    {
      "cell_type": "markdown",
      "source": [
        "# Outlier "
      ],
      "metadata": {
        "id": "nnFcrAsVYUfl"
      }
    },
    {
      "cell_type": "code",
      "source": [
        "xyz = data['Time']\n",
        "xyz"
      ],
      "metadata": {
        "colab": {
          "base_uri": "https://localhost:8080/"
        },
        "id": "izlc5lFKEPw7",
        "outputId": "f3f7f301-798a-4c5e-e961-076baa95a22c"
      },
      "execution_count": 12,
      "outputs": [
        {
          "output_type": "execute_result",
          "data": {
            "text/plain": [
              "0        19\n",
              "1        17\n",
              "2        14\n",
              "3        14\n",
              "4        23\n",
              "         ..\n",
              "99995    22\n",
              "99996    23\n",
              "99997    11\n",
              "99998    22\n",
              "99999    16\n",
              "Name: Time, Length: 100000, dtype: int64"
            ]
          },
          "metadata": {},
          "execution_count": 12
        }
      ]
    },
    {
      "cell_type": "code",
      "source": [
        "import numpy as np\n",
        "import pandas as pd\n",
        "outliers=[]"
      ],
      "metadata": {
        "id": "EmnI2a01EP0f"
      },
      "execution_count": 13,
      "outputs": []
    },
    {
      "cell_type": "code",
      "source": [
        "def detect_outlier(xyz):\n",
        "    \n",
        "    threshold=3\n",
        "    mean_1 = np.mean(xyz)\n",
        "    std_1 =np.std(xyz)\n",
        "    \n",
        "    \n",
        "    for y in xyz:\n",
        "        z_score= (y - xyz)/std_1 \n",
        "        if np.abs(z_score) > threshold:\n",
        "            outliers.append(y)\n",
        "    return outliers"
      ],
      "metadata": {
        "id": "ZbE84NyNEP4H"
      },
      "execution_count": 14,
      "outputs": []
    },
    {
      "cell_type": "code",
      "source": [
        "outliers"
      ],
      "metadata": {
        "colab": {
          "base_uri": "https://localhost:8080/"
        },
        "id": "xvrk3YYMEP7J",
        "outputId": "57de8f19-b129-4178-ce45-a9174101e2b6"
      },
      "execution_count": 15,
      "outputs": [
        {
          "output_type": "execute_result",
          "data": {
            "text/plain": [
              "[]"
            ]
          },
          "metadata": {},
          "execution_count": 15
        }
      ]
    },
    {
      "cell_type": "markdown",
      "source": [
        "# Identifying datatype"
      ],
      "metadata": {
        "id": "HxGZ6e4cYwjf"
      }
    },
    {
      "cell_type": "code",
      "source": [
        "type(data)"
      ],
      "metadata": {
        "colab": {
          "base_uri": "https://localhost:8080/"
        },
        "id": "Rv7j-WKEEP-C",
        "outputId": "d90aac02-c85f-4b7e-96f6-5f4cb100878d"
      },
      "execution_count": 16,
      "outputs": [
        {
          "output_type": "execute_result",
          "data": {
            "text/plain": [
              "pandas.core.frame.DataFrame"
            ]
          },
          "metadata": {},
          "execution_count": 16
        }
      ]
    },
    {
      "cell_type": "code",
      "source": [
        "data.dtypes"
      ],
      "metadata": {
        "id": "DchyGUlJZAAn",
        "colab": {
          "base_uri": "https://localhost:8080/"
        },
        "outputId": "a9487cba-887a-4b87-cbb0-c7a8bad66ad3"
      },
      "execution_count": 17,
      "outputs": [
        {
          "output_type": "execute_result",
          "data": {
            "text/plain": [
              "Transaction ID             object\n",
              "Date                       object\n",
              "Day of Week                object\n",
              "Time                        int64\n",
              "Type of Card               object\n",
              "Entry Mode                 object\n",
              "Amount                     object\n",
              "Type of Transaction        object\n",
              "Merchant Group             object\n",
              "Country of Transaction     object\n",
              "Shipping Address           object\n",
              "Country of Residence       object\n",
              "Gender                     object\n",
              "Age                       float64\n",
              "Bank                       object\n",
              "Fraud                       int64\n",
              "dtype: object"
            ]
          },
          "metadata": {},
          "execution_count": 17
        }
      ]
    },
    {
      "cell_type": "code",
      "source": [
        "data.mean()"
      ],
      "metadata": {
        "colab": {
          "base_uri": "https://localhost:8080/"
        },
        "id": "za7IrjAYY-U_",
        "outputId": "d34cd103-a0f2-4134-a55f-ac106129fda4"
      },
      "execution_count": 18,
      "outputs": [
        {
          "output_type": "stream",
          "name": "stderr",
          "text": [
            "/usr/local/lib/python3.7/dist-packages/ipykernel_launcher.py:1: FutureWarning: Dropping of nuisance columns in DataFrame reductions (with 'numeric_only=None') is deprecated; in a future version this will raise TypeError.  Select only valid columns before calling the reduction.\n",
            "  \"\"\"Entry point for launching an IPython kernel.\n"
          ]
        },
        {
          "output_type": "execute_result",
          "data": {
            "text/plain": [
              "Time     14.56287\n",
              "Age      44.99377\n",
              "Fraud     0.07195\n",
              "dtype: float64"
            ]
          },
          "metadata": {},
          "execution_count": 18
        }
      ]
    },
    {
      "cell_type": "markdown",
      "source": [
        "#Models"
      ],
      "metadata": {
        "id": "qVhhwa5k0lsI"
      }
    },
    {
      "cell_type": "code",
      "source": [
        "NB= GaussianNB()\n",
        "df=pd.read_csv(\"/content/Data-1 .csv\")\n",
        "#print(df1.dtypes)\n",
        "\n",
        "data=df[\"Time\"]\n",
        "l=[]\n",
        "for value in data:\n",
        "    l.append(float(value))\n",
        "\n",
        "df[\"Time\"]=l"
      ],
      "metadata": {
        "id": "FfX0omt6Zbo6"
      },
      "execution_count": 19,
      "outputs": []
    },
    {
      "cell_type": "code",
      "source": [
        "X_train=df.iloc[:50000,:-1]\n",
        "y_train=df.iloc[:50000,-1]\n",
        "\n",
        "\n",
        "X_test=df.iloc[50000:,:-1]\n",
        "y_test=df.iloc[50000:,-1]"
      ],
      "metadata": {
        "id": "Hr12_soU0Tws"
      },
      "execution_count": 20,
      "outputs": []
    },
    {
      "cell_type": "code",
      "source": [
        "X_train_encoded=pd.get_dummies(X_train,drop_first=True)\n",
        "X_test_encoded=pd.get_dummies(X_test,drop_first=True)\n",
        "\n",
        "\n",
        "fitNB = NB.fit(X_train_encoded,y_train)\n",
        "pred = NB.predict(X_test_encoded)\n",
        "AONB = metrics.accuracy_score(y_test,pred)\n",
        "print(\"Accuracy of naive_bayes: \",metrics.accuracy_score(y_test,pred))"
      ],
      "metadata": {
        "colab": {
          "base_uri": "https://localhost:8080/"
        },
        "id": "B-k2oMn10W06",
        "outputId": "830765ab-d25f-4e50-dce4-f5d2110dc0e6"
      },
      "execution_count": 41,
      "outputs": [
        {
          "output_type": "stream",
          "name": "stdout",
          "text": [
            "Accuracy of naive_bayes:  0.9438\n"
          ]
        }
      ]
    },
    {
      "cell_type": "code",
      "source": [
        "from sklearn.metrics import confusion_matrix\n",
        "from sklearn.metrics import plot_confusion_matrix\n",
        "confusion_matrix(y_test, pred)\n",
        "# plt.show()"
      ],
      "metadata": {
        "colab": {
          "base_uri": "https://localhost:8080/"
        },
        "id": "CUJN153q1w5c",
        "outputId": "0f3a109a-a2fb-476d-af9a-abd017c9177a"
      },
      "execution_count": 32,
      "outputs": [
        {
          "output_type": "execute_result",
          "data": {
            "text/plain": [
              "array([[46436,     0],\n",
              "       [ 2810,   754]])"
            ]
          },
          "metadata": {},
          "execution_count": 32
        }
      ]
    },
    {
      "cell_type": "code",
      "source": [
        "import matplotlib.pyplot as plt\n",
        "from sklearn.datasets import make_classification\n",
        "from sklearn.metrics import plot_confusion_matrix\n",
        "from sklearn.model_selection import train_test_split\n",
        "from sklearn.svm import SVC\n",
        "plot_confusion_matrix(fitNB, X_test_encoded, y_test)  \n",
        "plt.show()"
      ],
      "metadata": {
        "colab": {
          "base_uri": "https://localhost:8080/",
          "height": 360
        },
        "id": "QlIt13T_2qrj",
        "outputId": "bc7d2a80-5f15-4786-a72d-fc555f32d6cc"
      },
      "execution_count": 33,
      "outputs": [
        {
          "output_type": "stream",
          "name": "stderr",
          "text": [
            "/usr/local/lib/python3.7/dist-packages/sklearn/utils/deprecation.py:87: FutureWarning: Function plot_confusion_matrix is deprecated; Function `plot_confusion_matrix` is deprecated in 1.0 and will be removed in 1.2. Use one of the class methods: ConfusionMatrixDisplay.from_predictions or ConfusionMatrixDisplay.from_estimator.\n",
            "  warnings.warn(msg, category=FutureWarning)\n"
          ]
        },
        {
          "output_type": "display_data",
          "data": {
            "text/plain": [
              "<Figure size 432x288 with 2 Axes>"
            ],
            "image/png": "[encoded data removed]"
          },
          "metadata": {}
        }
      ]
    },
    {
      "cell_type": "code",
      "source": [
        "model = LogisticRegression(solver='liblinear', random_state=0)\n",
        "fitLR = model.fit(X_train_encoded,y_train)\n",
        "prob_pred = model.predict_proba(X_train_encoded)\n",
        "y_pred = model.predict(X_test_encoded)\n",
        "AOLR = model.score(X_train_encoded,y_train)\n",
        "print(\"Accuracy of Logistic regression: \",model.score(X_train_encoded,y_train))"
      ],
      "metadata": {
        "colab": {
          "base_uri": "https://localhost:8080/"
        },
        "id": "F0w-lawQ0W3g",
        "outputId": "724be6d0-ad40-44f2-dde5-066a9f02a554"
      },
      "execution_count": 42,
      "outputs": [
        {
          "output_type": "stream",
          "name": "stdout",
          "text": [
            "Accuracy of Logistic regression:  0.93568\n"
          ]
        }
      ]
    },
    {
      "cell_type": "code",
      "source": [
        "plot_confusion_matrix(fitLR, X_train_encoded, y_test)  \n",
        "plt.show()"
      ],
      "metadata": {
        "colab": {
          "base_uri": "https://localhost:8080/",
          "height": 360
        },
        "id": "g7Su6N8J3Kir",
        "outputId": "491dee22-8206-4bc8-e360-91490c907314"
      },
      "execution_count": 37,
      "outputs": [
        {
          "output_type": "stream",
          "name": "stderr",
          "text": [
            "/usr/local/lib/python3.7/dist-packages/sklearn/utils/deprecation.py:87: FutureWarning: Function plot_confusion_matrix is deprecated; Function `plot_confusion_matrix` is deprecated in 1.0 and will be removed in 1.2. Use one of the class methods: ConfusionMatrixDisplay.from_predictions or ConfusionMatrixDisplay.from_estimator.\n",
            "  warnings.warn(msg, category=FutureWarning)\n"
          ]
        },
        {
          "output_type": "display_data",
          "data": {
            "text/plain": [
              "<Figure size 432x288 with 2 Axes>"
            ],
            "image/png": "[encoded data removed]"
          },
          "metadata": {}
        }
      ]
    },
    {
      "cell_type": "code",
      "source": [
        "clf=DecisionTreeClassifier(criterion='entropy',max_depth=3)\n",
        "fitDT = clf.fit(X_train_encoded,y_train)\n",
        "y_pred=clf.predict(X_test_encoded)\n",
        "AODT = metrics.accuracy_score(y_test,y_pred)\n",
        "print(\"Decision Tree Accuracy: \",metrics.accuracy_score(y_test,y_pred))"
      ],
      "metadata": {
        "colab": {
          "base_uri": "https://localhost:8080/"
        },
        "id": "S-BDcYSl0Yrz",
        "outputId": "444b3494-280b-45e9-e210-7a6fd5dc8003"
      },
      "execution_count": 44,
      "outputs": [
        {
          "output_type": "stream",
          "name": "stdout",
          "text": [
            "Decision Tree Accuracy:  0.96354\n"
          ]
        }
      ]
    },
    {
      "cell_type": "code",
      "source": [
        "plot_confusion_matrix(fitDT, X_train_encoded, y_test)  \n",
        "plt.show()"
      ],
      "metadata": {
        "colab": {
          "base_uri": "https://localhost:8080/",
          "height": 360
        },
        "id": "uOeT_dA53ZjE",
        "outputId": "e25e2019-1caa-4a18-a354-f9ed8b1c308e"
      },
      "execution_count": 40,
      "outputs": [
        {
          "output_type": "stream",
          "name": "stderr",
          "text": [
            "/usr/local/lib/python3.7/dist-packages/sklearn/utils/deprecation.py:87: FutureWarning: Function plot_confusion_matrix is deprecated; Function `plot_confusion_matrix` is deprecated in 1.0 and will be removed in 1.2. Use one of the class methods: ConfusionMatrixDisplay.from_predictions or ConfusionMatrixDisplay.from_estimator.\n",
            "  warnings.warn(msg, category=FutureWarning)\n"
          ]
        },
        {
          "output_type": "display_data",
          "data": {
            "text/plain": [
              "<Figure size 432x288 with 2 Axes>"
            ],
            "image/png": "[encoded data removed]"
          },
          "metadata": {}
        }
      ]
    },
    {
      "cell_type": "code",
      "source": [
        "plt.figure(figsize=(20,15))\n",
        "left_acc = [1,2,3]\n",
        "height_acc = [AODT,AOLR,AONB]\n",
        "tick_label_acc = ['Desicion Tree','Logistic Regression','GaussianNB']\n",
        "\n",
        "plt.subplot(2,2,1);\n",
        "plt.bar(left_acc, height_acc,tick_label = tick_label_acc ,width=0.2, color = ['green', 'red','blue']);\n",
        "plt.xlabel(\"Classifiers\");\n",
        "plt.ylabel('Accuracy');\n",
        "plt.title('Comparison of accuracy of different models')\n",
        "\n",
        "plt.show()"
      ],
      "metadata": {
        "colab": {
          "base_uri": "https://localhost:8080/",
          "height": 489
        },
        "id": "vE9N8vsu1lB1",
        "outputId": "c8c85e4e-4d6a-47e0-b117-af81d17a54e4"
      },
      "execution_count": 48,
      "outputs": [
        {
          "output_type": "display_data",
          "data": {
            "text/plain": [
              "<Figure size 1440x1080 with 1 Axes>"
            ],
            "image/png": "[encoded data removed]"
          },
          "metadata": {}
        }
      ]
    },
    {
      "cell_type": "code",
      "source": [],
      "metadata": {
        "id": "xhQtu9pH5I31"
      },
      "execution_count": null,
      "outputs": []
    }
  ]
}